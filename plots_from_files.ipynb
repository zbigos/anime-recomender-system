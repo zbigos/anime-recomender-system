{
 "cells": [
  {
   "cell_type": "code",
   "execution_count": 76,
   "metadata": {},
   "outputs": [],
   "source": [
    "import matplotlib.pyplot as plt\n",
    "import numpy as np"
   ]
  },
  {
   "cell_type": "code",
   "execution_count": 106,
   "metadata": {},
   "outputs": [],
   "source": [
    "def select_best(data, steps, maxK) :\n",
    "    \n",
    "    infty = 1e100\n",
    "    \n",
    "    ret = []\n",
    "    \n",
    "    for i in range (0, steps) :\n",
    "        left = i * maxK\n",
    "        right = left + maxK\n",
    "        curBest = infty\n",
    "        curAns = 0\n",
    "        for j in range(left, right) :\n",
    "            if(data[j] < curBest) :\n",
    "                curBest = data[j]\n",
    "                curAns = j\n",
    "        ret.append(data[curAns])\n",
    "    \n",
    "    return np.array(ret)"
   ]
  },
  {
   "cell_type": "code",
   "execution_count": 108,
   "metadata": {},
   "outputs": [],
   "source": [
    "def give_errors(suffix) :\n",
    "    dataCF = np.loadtxt('cf_errors_' + suffix)\n",
    "    dataCB = np.loadtxt('cb_genres/cb_genres_errors_' + suffix)\n",
    "    dataZbych = np.loadtxt('dbv_errors/dbv_errors_' + suffix, delimiter=',')\n",
    "    data_rep = []\n",
    "    for i in range(1, 201) :\n",
    "        data_rep.append(dataZbych[i][1])\n",
    "    dataZbych2 = np.loadtxt('ensemble_errors/errors_' + suffix, delimiter=',')\n",
    "    data_rep2 = []\n",
    "    for i in range(0, 200) :\n",
    "        data_rep2.append(dataZbych2[i][3])\n",
    "    errors = np.concatenate((select_best(dataCF, 4, 200), select_best(dataCB, 1, 200), select_best(data_rep, 1, 200), select_best(data_rep2, 1, 200)))\n",
    "    return errors\n"
   ]
  },
  {
   "cell_type": "code",
   "execution_count": 109,
   "metadata": {},
   "outputs": [],
   "source": [
    "def make_plot(x) :\n",
    "    suffs = ['newbies.txt', 'popular.txt', 'connoisseur.txt', 'random.txt']\n",
    "    titles = ['newbie', 'popular', 'connoisseur', 'random']\n",
    "    obv = np.loadtxt('obv.txt')\n",
    "\n",
    "    errors = give_errors(suffs[x])\n",
    "    errors = np.concatenate((np.array([obv[x], obv[x + 4]]), errors))\n",
    "\n",
    "    perm = [1, 0, 4, 5, 6, 3, 2, 7, 8]\n",
    "    bars = ('MU', 'MA', 'CF-P', 'CF-C', 'CBF-S', 'CF-R', 'CF-MSE', 'CBF-D', 'CFB-H')\n",
    "    colors = ('blue', 'blue', 'blue', 'blue', 'blue', 'red', 'red', 'red', 'red') \n",
    "    errors = errors[perm]\n",
    "    print(errors)\n",
    "    y_pos = np.arange(len(errors))\n",
    "    #plt.figure()\n",
    "    plt.ylim(0.0, 6.5)\n",
    "    plt.bar(y_pos, errors, color = colors)\n",
    "    plt.xticks(y_pos, bars)\n",
    "    plt.ylabel('Average square error')\n",
    "    plt.title(titles[x])\n",
    "    plt.legend()\n",
    "    plt.show()"
   ]
  },
  {
   "cell_type": "code",
   "execution_count": 110,
   "metadata": {},
   "outputs": [
    {
     "name": "stderr",
     "output_type": "stream",
     "text": [
      "No handles with labels found to put in legend.\n"
     ]
    },
    {
     "name": "stdout",
     "output_type": "stream",
     "text": [
      "[1.78866    2.04769    2.07767    3.72769    2.06906517 1.97874\n",
      " 1.45006    6.30522708 2.43774025]\n"
     ]
    },
    {
     "data": {
      "image/png": "[encoded data removed]",
      "text/plain": [
       "<Figure size 432x288 with 1 Axes>"
      ]
     },
     "metadata": {
      "needs_background": "light"
     },
     "output_type": "display_data"
    }
   ],
   "source": [
    "make_plot(0)"
   ]
  },
  {
   "cell_type": "code",
   "execution_count": 111,
   "metadata": {},
   "outputs": [
    {
     "name": "stdout",
     "output_type": "stream",
     "text": [
      "[1.67399    1.82579    2.15343    3.61967    1.63906071 1.74279\n",
      " 1.42534    4.05813723 1.55773767]\n"
     ]
    },
    {
     "name": "stderr",
     "output_type": "stream",
     "text": [
      "No handles with labels found to put in legend.\n"
     ]
    },
    {
     "data": {
      "image/png": "[encoded data removed]",
      "text/plain": [
       "<Figure size 432x288 with 1 Axes>"
      ]
     },
     "metadata": {
      "needs_background": "light"
     },
     "output_type": "display_data"
    }
   ],
   "source": [
    "make_plot(1)"
   ]
  },
  {
   "cell_type": "code",
   "execution_count": 112,
   "metadata": {},
   "outputs": [
    {
     "name": "stdout",
     "output_type": "stream",
     "text": [
      "[2.06907    1.85415    3.48364    3.48414    2.04783673 3.47557\n",
      " 3.05567    3.53516732 3.14960732]\n"
     ]
    },
    {
     "name": "stderr",
     "output_type": "stream",
     "text": [
      "No handles with labels found to put in legend.\n"
     ]
    },
    {
     "data": {
      "image/png": "[encoded data removed]",
      "text/plain": [
       "<Figure size 432x288 with 1 Axes>"
      ]
     },
     "metadata": {
      "needs_background": "light"
     },
     "output_type": "display_data"
    }
   ],
   "source": [
    "make_plot(2)"
   ]
  },
  {
   "cell_type": "code",
   "execution_count": 113,
   "metadata": {},
   "outputs": [
    {
     "name": "stdout",
     "output_type": "stream",
     "text": [
      "[2.88042    3.48414    2.39337    3.52475    1.65225642 2.00875\n",
      " 1.49333    3.99171346 1.83496184]\n"
     ]
    },
    {
     "name": "stderr",
     "output_type": "stream",
     "text": [
      "No handles with labels found to put in legend.\n"
     ]
    },
    {
     "data": {
      "image/png": "[encoded data removed]",
      "text/plain": [
       "<Figure size 432x288 with 1 Axes>"
      ]
     },
     "metadata": {
      "needs_background": "light"
     },
     "output_type": "display_data"
    }
   ],
   "source": [
    "make_plot(3)"
   ]
  },
  {
   "cell_type": "code",
   "execution_count": null,
   "metadata": {},
   "outputs": [],
   "source": []
  },
  {
   "cell_type": "code",
   "execution_count": null,
   "metadata": {},
   "outputs": [],
   "source": []
  },
  {
   "cell_type": "code",
   "execution_count": null,
   "metadata": {},
   "outputs": [],
   "source": []
  }
 ],
 "metadata": {
  "kernelspec": {
   "display_name": "Python 3",
   "language": "python",
   "name": "python3"
  },
  "language_info": {
   "codemirror_mode": {
    "name": "ipython",
    "version": 3
   },
   "file_extension": ".py",
   "mimetype": "text/x-python",
   "name": "python",
   "nbconvert_exporter": "python",
   "pygments_lexer": "ipython3",
   "version": "3.6.9"
  }
 },
 "nbformat": 4,
 "nbformat_minor": 4
}
